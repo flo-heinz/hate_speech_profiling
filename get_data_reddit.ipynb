{
 "cells": [
  {
   "cell_type": "code",
   "execution_count": 4,
   "id": "adc18d8a",
   "metadata": {},
   "outputs": [],
   "source": [
    "import praw\n",
    "import json\n",
    "import requests\n",
    "from datetime import datetime"
   ]
  },
  {
   "cell_type": "code",
   "execution_count": 5,
   "id": "88aceed6",
   "metadata": {},
   "outputs": [
    {
     "name": "stderr",
     "output_type": "stream",
     "text": [
      "Version 7.6.1 of praw is outdated. Version 7.8.1 was released Friday October 25, 2024.\n"
     ]
    }
   ],
   "source": [
    "reddit = praw.Reddit(\n",
    "    client_id =\"NKXa252Fg_275FVBx4IvYA\",\n",
    "    client_secret = \"Jh5KzHd0mQqNSydJI9ihVlFn_qTrtQ\",\n",
    "    user_agent = \"hatespeechAPI\",\n",
    "    username = \"flor_he\",\n",
    "    password = \"********\")"
   ]
  },
  {
   "cell_type": "code",
   "execution_count": 6,
   "id": "2863de70",
   "metadata": {},
   "outputs": [],
   "source": [
    "#looking_for = \"Antiwork\"\n",
    "#looking_for = \"aznidentity\"\n",
    "#looking_for = \"AsianMasculinity\"\n",
    "#looking_for = \"BlackPeopleTwitter\"\n",
    "#looking_for = \"FemaleDatingStrategy\"\n",
    "#looking_for = \"GenZedong\"\n",
    "#looking_for = \"HermanCainAward\"\n",
    "#looking_for = \"KotakuInAction\"\n",
    "#looking_for = \"MensRights\"\n",
    "#looking_for = \"TheRedPill\"\n",
    "#looking_for = \"WhitePeopleTwitter\"\n",
    "looking_for = \"Portugueses\"\n",
    "\n",
    "subreddit = reddit.subreddit(looking_for)"
   ]
  },
  {
   "cell_type": "code",
   "execution_count": 7,
   "id": "b7344e8e",
   "metadata": {},
   "outputs": [],
   "source": [
    "new_posts = subreddit.new(limit=1000)"
   ]
  },
  {
   "cell_type": "code",
   "execution_count": 8,
   "id": "6320ae61",
   "metadata": {},
   "outputs": [
    {
     "name": "stderr",
     "output_type": "stream",
     "text": [
      "Processing posts: 993it [13:02,  1.27it/s]\n"
     ]
    },
    {
     "name": "stdout",
     "output_type": "stream",
     "text": [
      "Data successfully written to reddit_posts_and_comments_subreddit_Portugueses_with_date_and_authors.json\n"
     ]
    }
   ],
   "source": [
    "from tqdm import tqdm\n",
    "import re\n",
    "import json\n",
    "from datetime import datetime\n",
    "\n",
    "def clean_text(text):\n",
    "    #remove Markdown links, keeping the link text only\n",
    "    text = re.sub(r'\\[([^\\]]+)\\]\\([^\\)]+\\)', r'\\1', text)\n",
    "    #remove bold formatting\n",
    "    text = re.sub(r'\\*\\*([^*]+)\\*\\*', r'\\1', text)\n",
    "    #remove italics formatting\n",
    "    text = re.sub(r'\\*([^*]+)\\*', r'\\1', text)\n",
    "    #remove spoiler tags\n",
    "    text = re.sub(r'>!\\s?([^<]+)\\s?!<', r'\\1', text)\n",
    "    #remove hashtags\n",
    "    text = re.sub(r'#', '', text)\n",
    "    #remove specific parentheses content\n",
    "    text = re.sub(r'\\(\\d+\\)', '', text)\n",
    "    return text\n",
    "\n",
    "def format_date(utc_timestamp):\n",
    "    #convert the UTC timestamp to a human-readable date\n",
    "    return datetime.utcfromtimestamp(utc_timestamp).strftime('%Y-%m-%d %H:%M:%S')\n",
    "\n",
    "data = []\n",
    "\n",
    "#wrap `new_posts` with `tqdm` for a progress bar\n",
    "for post in tqdm(new_posts, desc=\"Processing posts\"):\n",
    "    post_data = {\n",
    "        \"Title\": clean_text(post.title),\n",
    "        \"ID\": post.id,\n",
    "        \"URL\": post.url,\n",
    "        \"Author\": post.author.name if post.author else \"Deleted\",\n",
    "        \"Score\": post.score,\n",
    "        \"Comment count\": post.num_comments,\n",
    "        \"Created\": format_date(post.created_utc),\n",
    "        \"Comments\": []\n",
    "    }\n",
    "    post.comments.replace_more(limit=0)\n",
    "    for comment in post.comments.list():\n",
    "        comment_data = {\n",
    "            \"Comment ID\": comment.id,\n",
    "            \"Author\": comment.author.name if comment.author else \"Deleted\",\n",
    "            \"Comment Body\": clean_text(comment.body),\n",
    "            \"Comment Score\": comment.score,\n",
    "            \"Created\": format_date(comment.created_utc)\n",
    "        }\n",
    "        post_data[\"Comments\"].append(comment_data)\n",
    "\n",
    "    data.append(post_data)\n",
    "\n",
    "if not data:\n",
    "    print(\"No posts were processed. Check if the 'new_posts' is empty or adjust your criteria.\")\n",
    "else:\n",
    "    filename = f'reddit_posts_and_comments_subreddit_{looking_for}_with_date_and_authors.json'\n",
    "    with open(filename, 'w', encoding='utf-8') as f:\n",
    "        json.dump(data, f, ensure_ascii=False, indent=4)\n",
    "    print(f\"Data successfully written to {filename}\")\n"
   ]
  }
 ],
 "metadata": {
  "kernelspec": {
   "display_name": "Python 3 (ipykernel)",
   "language": "python",
   "name": "python3"
  },
  "language_info": {
   "codemirror_mode": {
    "name": "ipython",
    "version": 3
   },
   "file_extension": ".py",
   "mimetype": "text/x-python",
   "name": "python",
   "nbconvert_exporter": "python",
   "pygments_lexer": "ipython3",
   "version": "3.9.16"
  }
 },
 "nbformat": 4,
 "nbformat_minor": 5
}
